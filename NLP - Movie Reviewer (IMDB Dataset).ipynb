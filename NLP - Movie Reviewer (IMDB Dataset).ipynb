{
 "cells": [
  {
   "cell_type": "code",
   "execution_count": 1,
   "id": "d4386742",
   "metadata": {},
   "outputs": [
    {
     "name": "stderr",
     "output_type": "stream",
     "text": [
      "D:\\SmartInternz\\lib\\site-packages\\numpy\\_distributor_init.py:30: UserWarning: loaded more than 1 DLL from .libs:\n",
      "D:\\SmartInternz\\lib\\site-packages\\numpy\\.libs\\libopenblas.WCDJNK7YVMPZQ2ME2ZZHJJRJ3JIKNDB7.gfortran-win_amd64.dll\n",
      "D:\\SmartInternz\\lib\\site-packages\\numpy\\.libs\\libopenblas.XWYDX2IKJW2NMTWSFYNGFUWKQU3LYTCZ.gfortran-win_amd64.dll\n",
      "  warnings.warn(\"loaded more than 1 DLL from .libs:\"\n"
     ]
    }
   ],
   "source": [
    "import pandas as pd\n",
    "import nltk\n",
    "import re"
   ]
  },
  {
   "cell_type": "code",
   "execution_count": 2,
   "id": "56ee6858",
   "metadata": {},
   "outputs": [
    {
     "name": "stderr",
     "output_type": "stream",
     "text": [
      "[nltk_data] Downloading package stopwords to\n",
      "[nltk_data]     C:\\Users\\paint\\AppData\\Roaming\\nltk_data...\n",
      "[nltk_data]   Package stopwords is already up-to-date!\n"
     ]
    }
   ],
   "source": [
    "nltk.download(\"stopwords\")\n",
    "from nltk.corpus import stopwords\n",
    "from nltk.stem.porter import PorterStemmer"
   ]
  },
  {
   "cell_type": "code",
   "execution_count": 3,
   "id": "de1770f8",
   "metadata": {},
   "outputs": [],
   "source": [
    "ps = PorterStemmer()"
   ]
  },
  {
   "cell_type": "code",
   "execution_count": 4,
   "id": "db8318f3",
   "metadata": {},
   "outputs": [],
   "source": [
    "data = []"
   ]
  },
  {
   "cell_type": "code",
   "execution_count": 5,
   "id": "30b131f7",
   "metadata": {},
   "outputs": [],
   "source": [
    "df = pd.read_csv(\"IMDB Dataset.csv\", delimiter = \",\")"
   ]
  },
  {
   "cell_type": "code",
   "execution_count": 6,
   "id": "38fd2f29",
   "metadata": {},
   "outputs": [
    {
     "data": {
      "text/html": [
       "<div>\n",
       "<style scoped>\n",
       "    .dataframe tbody tr th:only-of-type {\n",
       "        vertical-align: middle;\n",
       "    }\n",
       "\n",
       "    .dataframe tbody tr th {\n",
       "        vertical-align: top;\n",
       "    }\n",
       "\n",
       "    .dataframe thead th {\n",
       "        text-align: right;\n",
       "    }\n",
       "</style>\n",
       "<table border=\"1\" class=\"dataframe\">\n",
       "  <thead>\n",
       "    <tr style=\"text-align: right;\">\n",
       "      <th></th>\n",
       "      <th>review</th>\n",
       "      <th>sentiment</th>\n",
       "    </tr>\n",
       "  </thead>\n",
       "  <tbody>\n",
       "    <tr>\n",
       "      <th>0</th>\n",
       "      <td>One of the other reviewers has mentioned that ...</td>\n",
       "      <td>positive</td>\n",
       "    </tr>\n",
       "    <tr>\n",
       "      <th>1</th>\n",
       "      <td>A wonderful little production. &lt;br /&gt;&lt;br /&gt;The...</td>\n",
       "      <td>positive</td>\n",
       "    </tr>\n",
       "    <tr>\n",
       "      <th>2</th>\n",
       "      <td>I thought this was a wonderful way to spend ti...</td>\n",
       "      <td>positive</td>\n",
       "    </tr>\n",
       "    <tr>\n",
       "      <th>3</th>\n",
       "      <td>Basically there's a family where a little boy ...</td>\n",
       "      <td>negative</td>\n",
       "    </tr>\n",
       "    <tr>\n",
       "      <th>4</th>\n",
       "      <td>Petter Mattei's \"Love in the Time of Money\" is...</td>\n",
       "      <td>positive</td>\n",
       "    </tr>\n",
       "    <tr>\n",
       "      <th>...</th>\n",
       "      <td>...</td>\n",
       "      <td>...</td>\n",
       "    </tr>\n",
       "    <tr>\n",
       "      <th>49995</th>\n",
       "      <td>I thought this movie did a down right good job...</td>\n",
       "      <td>positive</td>\n",
       "    </tr>\n",
       "    <tr>\n",
       "      <th>49996</th>\n",
       "      <td>Bad plot, bad dialogue, bad acting, idiotic di...</td>\n",
       "      <td>negative</td>\n",
       "    </tr>\n",
       "    <tr>\n",
       "      <th>49997</th>\n",
       "      <td>I am a Catholic taught in parochial elementary...</td>\n",
       "      <td>negative</td>\n",
       "    </tr>\n",
       "    <tr>\n",
       "      <th>49998</th>\n",
       "      <td>I'm going to have to disagree with the previou...</td>\n",
       "      <td>negative</td>\n",
       "    </tr>\n",
       "    <tr>\n",
       "      <th>49999</th>\n",
       "      <td>No one expects the Star Trek movies to be high...</td>\n",
       "      <td>negative</td>\n",
       "    </tr>\n",
       "  </tbody>\n",
       "</table>\n",
       "<p>50000 rows × 2 columns</p>\n",
       "</div>"
      ],
      "text/plain": [
       "                                                  review sentiment\n",
       "0      One of the other reviewers has mentioned that ...  positive\n",
       "1      A wonderful little production. <br /><br />The...  positive\n",
       "2      I thought this was a wonderful way to spend ti...  positive\n",
       "3      Basically there's a family where a little boy ...  negative\n",
       "4      Petter Mattei's \"Love in the Time of Money\" is...  positive\n",
       "...                                                  ...       ...\n",
       "49995  I thought this movie did a down right good job...  positive\n",
       "49996  Bad plot, bad dialogue, bad acting, idiotic di...  negative\n",
       "49997  I am a Catholic taught in parochial elementary...  negative\n",
       "49998  I'm going to have to disagree with the previou...  negative\n",
       "49999  No one expects the Star Trek movies to be high...  negative\n",
       "\n",
       "[50000 rows x 2 columns]"
      ]
     },
     "execution_count": 6,
     "metadata": {},
     "output_type": "execute_result"
    }
   ],
   "source": [
    "df"
   ]
  },
  {
   "cell_type": "code",
   "execution_count": 7,
   "id": "38b37c56",
   "metadata": {},
   "outputs": [],
   "source": [
    "for i in range(0,5000):\n",
    "    review = df['review'][i]\n",
    "    #removal of unneccesary characters\n",
    "    review = re.sub('[^a-zA-Z]',' ', review)\n",
    "    #text converted to lower case\n",
    "    review = review.lower()\n",
    "    #splitting sentences into words\n",
    "    review = review.split()\n",
    "    #stemming and remove stopwords\n",
    "    review = [ps.stem(word) for word in review if not word in set(stopwords.words('english'))]\n",
    "    review = ' '.join(review)\n",
    "    data.append(review)"
   ]
  },
  {
   "cell_type": "code",
   "execution_count": 8,
   "id": "93295f33",
   "metadata": {},
   "outputs": [
    {
     "data": {
      "text/plain": [
       "CountVectorizer(max_features=10000)"
      ]
     },
     "execution_count": 8,
     "metadata": {},
     "output_type": "execute_result"
    }
   ],
   "source": [
    "from sklearn.feature_extraction.text import CountVectorizer\n",
    "cv = CountVectorizer(max_features = 10000)\n",
    "cv"
   ]
  },
  {
   "cell_type": "code",
   "execution_count": 9,
   "id": "a7297677",
   "metadata": {},
   "outputs": [],
   "source": [
    "x = cv.fit_transform(data).toarray()\n",
    "y = df.iloc[:5000,1:2].values"
   ]
  },
  {
   "cell_type": "code",
   "execution_count": 10,
   "id": "a18961a4",
   "metadata": {},
   "outputs": [],
   "source": [
    "from sklearn.preprocessing import OneHotEncoder\n",
    "from sklearn.compose import ColumnTransformer\n",
    "ct = ColumnTransformer([(\"one\",OneHotEncoder(),[0])],remainder = \"passthrough\")"
   ]
  },
  {
   "cell_type": "code",
   "execution_count": 11,
   "id": "d1cfe9a7",
   "metadata": {},
   "outputs": [],
   "source": [
    "y = ct.fit_transform(y)"
   ]
  },
  {
   "cell_type": "code",
   "execution_count": 13,
   "id": "f0d79a1c",
   "metadata": {},
   "outputs": [],
   "source": [
    "import numpy as np\n",
    "x = np.asarray(x).astype(np.float32)"
   ]
  },
  {
   "cell_type": "code",
   "execution_count": 16,
   "id": "42ea3bf9",
   "metadata": {},
   "outputs": [],
   "source": [
    "import tensorflow\n",
    "from tensorflow.keras.models import Sequential \n",
    "from tensorflow.keras.layers import Dense"
   ]
  },
  {
   "cell_type": "code",
   "execution_count": 14,
   "id": "e6b1b940",
   "metadata": {},
   "outputs": [],
   "source": [
    "from sklearn.model_selection import train_test_split\n",
    "x_train,x_test,y_train,y_test = train_test_split(x,y,test_size = 0.2, random_state = 0)"
   ]
  },
  {
   "cell_type": "code",
   "execution_count": 17,
   "id": "4782e1c1",
   "metadata": {},
   "outputs": [],
   "source": [
    "model = Sequential()"
   ]
  },
  {
   "cell_type": "code",
   "execution_count": 18,
   "id": "a74c4724",
   "metadata": {},
   "outputs": [],
   "source": [
    "model.add(Dense(1565, activation = \"relu\"))\n",
    "model.add(Dense(3000, activation = \"relu\"))\n",
    "model.add(Dense(2, activation = \"softmax\"))"
   ]
  },
  {
   "cell_type": "code",
   "execution_count": 19,
   "id": "fc63c75a",
   "metadata": {},
   "outputs": [],
   "source": [
    "model.compile(optimizer=\"adam\", loss = \"categorical_crossentropy\", metrics = ['accuracy'])"
   ]
  },
  {
   "cell_type": "code",
   "execution_count": 20,
   "id": "ca2f31a0",
   "metadata": {},
   "outputs": [
    {
     "name": "stdout",
     "output_type": "stream",
     "text": [
      "Epoch 1/20\n",
      "125/125 [==============================] - 10s 66ms/step - loss: 0.4309 - accuracy: 0.8167\n",
      "Epoch 2/20\n",
      "125/125 [==============================] - 8s 66ms/step - loss: 0.0472 - accuracy: 0.9835\n",
      "Epoch 3/20\n",
      "125/125 [==============================] - 8s 66ms/step - loss: 0.0084 - accuracy: 0.9975\n",
      "Epoch 4/20\n",
      "125/125 [==============================] - 8s 66ms/step - loss: 0.0117 - accuracy: 0.9958\n",
      "Epoch 5/20\n",
      "125/125 [==============================] - 8s 66ms/step - loss: 0.0018 - accuracy: 0.9995\n",
      "Epoch 6/20\n",
      "125/125 [==============================] - 8s 66ms/step - loss: 5.4667e-05 - accuracy: 1.0000\n",
      "Epoch 7/20\n",
      "125/125 [==============================] - 8s 67ms/step - loss: 1.9813e-05 - accuracy: 1.0000\n",
      "Epoch 8/20\n",
      "125/125 [==============================] - 9s 69ms/step - loss: 1.4472e-05 - accuracy: 1.0000\n",
      "Epoch 9/20\n",
      "125/125 [==============================] - 8s 67ms/step - loss: 1.0856e-05 - accuracy: 1.0000\n",
      "Epoch 10/20\n",
      "125/125 [==============================] - 8s 67ms/step - loss: 8.2736e-06 - accuracy: 1.0000\n",
      "Epoch 11/20\n",
      "125/125 [==============================] - 8s 67ms/step - loss: 6.4119e-06 - accuracy: 1.0000\n",
      "Epoch 12/20\n",
      "125/125 [==============================] - 9s 68ms/step - loss: 5.0593e-06 - accuracy: 1.0000\n",
      "Epoch 13/20\n",
      "125/125 [==============================] - 8s 68ms/step - loss: 4.0672e-06 - accuracy: 1.0000\n",
      "Epoch 14/20\n",
      "125/125 [==============================] - 8s 68ms/step - loss: 3.3230e-06 - accuracy: 1.0000\n",
      "Epoch 15/20\n",
      "125/125 [==============================] - 8s 68ms/step - loss: 2.7519e-06 - accuracy: 1.0000\n",
      "Epoch 16/20\n",
      "125/125 [==============================] - 8s 67ms/step - loss: 2.3099e-06 - accuracy: 1.0000\n",
      "Epoch 17/20\n",
      "125/125 [==============================] - 8s 67ms/step - loss: 1.9612e-06 - accuracy: 1.0000\n",
      "Epoch 18/20\n",
      "125/125 [==============================] - 8s 68ms/step - loss: 1.6799e-06 - accuracy: 1.0000\n",
      "Epoch 19/20\n",
      "125/125 [==============================] - 8s 67ms/step - loss: 1.4502e-06 - accuracy: 1.0000\n",
      "Epoch 20/20\n",
      "125/125 [==============================] - 8s 67ms/step - loss: 1.2605e-06 - accuracy: 1.0000\n"
     ]
    },
    {
     "data": {
      "text/plain": [
       "<tensorflow.python.keras.callbacks.History at 0x1734a7c6a90>"
      ]
     },
     "execution_count": 20,
     "metadata": {},
     "output_type": "execute_result"
    }
   ],
   "source": [
    "model.fit(x_train,y_train,epochs=20)"
   ]
  },
  {
   "cell_type": "code",
   "execution_count": 21,
   "id": "b2197a25",
   "metadata": {},
   "outputs": [],
   "source": [
    "model.save(\"Movie_Reviewer.h5\")"
   ]
  },
  {
   "cell_type": "code",
   "execution_count": 29,
   "id": "48849563",
   "metadata": {},
   "outputs": [],
   "source": [
    "review = \"The movie was amazing\"\n",
    "review = re.sub('[^a-zA-Z]', ' ', review)\n",
    "review = review.lower()\n",
    "review = review.split()\n",
    "review = [ps.stem(word) for word in review if not word in set(stopwords.words('english'))]\n",
    "review =' '.join(review)"
   ]
  },
  {
   "cell_type": "code",
   "execution_count": 30,
   "id": "afdf9bdd",
   "metadata": {},
   "outputs": [
    {
     "data": {
      "text/plain": [
       "'positive'"
      ]
     },
     "execution_count": 30,
     "metadata": {},
     "output_type": "execute_result"
    }
   ],
   "source": [
    "pred = model.predict(cv.transform([review]))\n",
    "sentiment = [\"negative\", \"positive\"]\n",
    "prediction = sentiment[np.argmax(pred)]\n",
    "prediction"
   ]
  }
 ],
 "metadata": {
  "kernelspec": {
   "display_name": "Python 3 (ipykernel)",
   "language": "python",
   "name": "python3"
  },
  "language_info": {
   "codemirror_mode": {
    "name": "ipython",
    "version": 3
   },
   "file_extension": ".py",
   "mimetype": "text/x-python",
   "name": "python",
   "nbconvert_exporter": "python",
   "pygments_lexer": "ipython3",
   "version": "3.9.1"
  }
 },
 "nbformat": 4,
 "nbformat_minor": 5
}
