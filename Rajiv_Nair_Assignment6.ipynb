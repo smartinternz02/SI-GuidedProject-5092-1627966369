{
 "cells": [
  {
   "cell_type": "code",
   "execution_count": 1,
   "id": "4c9ca630",
   "metadata": {},
   "outputs": [
    {
     "name": "stderr",
     "output_type": "stream",
     "text": [
      "D:\\SmartInternz\\lib\\site-packages\\numpy\\_distributor_init.py:30: UserWarning: loaded more than 1 DLL from .libs:\n",
      "D:\\SmartInternz\\lib\\site-packages\\numpy\\.libs\\libopenblas.WCDJNK7YVMPZQ2ME2ZZHJJRJ3JIKNDB7.gfortran-win_amd64.dll\n",
      "D:\\SmartInternz\\lib\\site-packages\\numpy\\.libs\\libopenblas.XWYDX2IKJW2NMTWSFYNGFUWKQU3LYTCZ.gfortran-win_amd64.dll\n",
      "  warnings.warn(\"loaded more than 1 DLL from .libs:\"\n"
     ]
    }
   ],
   "source": [
    "import pandas as pd\n",
    "import numpy as np\n",
    "from tensorflow.keras.models import Sequential\n",
    "from tensorflow.keras.layers import Dense, Convolution2D, MaxPooling2D,Flatten\n",
    "from tensorflow.keras.preprocessing.image import ImageDataGenerator"
   ]
  },
  {
   "cell_type": "code",
   "execution_count": 2,
   "id": "544b6058",
   "metadata": {},
   "outputs": [],
   "source": [
    "train_datagen = ImageDataGenerator(rescale=1./255, shear_range = 0.2, zoom_range=0.2, horizontal_flip=True)\n",
    "test_datagen = ImageDataGenerator(rescale=1./255)"
   ]
  },
  {
   "cell_type": "code",
   "execution_count": 3,
   "id": "9e392a37",
   "metadata": {},
   "outputs": [
    {
     "name": "stdout",
     "output_type": "stream",
     "text": [
      "Found 1465 images belonging to 5 classes.\n",
      "Found 893 images belonging to 5 classes.\n"
     ]
    }
   ],
   "source": [
    "x_train = train_datagen.flow_from_directory(r\"Dataset/logo data/train\", target_size=(64,64), batch_size=32,class_mode=\"categorical\")\n",
    "x_test = test_datagen.flow_from_directory(r\"Dataset/logo data/test\", target_size=(64,64), batch_size=32,class_mode=\"categorical\")"
   ]
  },
  {
   "cell_type": "code",
   "execution_count": 4,
   "id": "125e93a5",
   "metadata": {},
   "outputs": [],
   "source": [
    "cnn = Sequential()"
   ]
  },
  {
   "cell_type": "code",
   "execution_count": 5,
   "id": "ac304985",
   "metadata": {},
   "outputs": [],
   "source": [
    "cnn.add(Convolution2D(32,(3,3),input_shape=(64,64,3)))"
   ]
  },
  {
   "cell_type": "code",
   "execution_count": 6,
   "id": "fe686dd7",
   "metadata": {},
   "outputs": [],
   "source": [
    "cnn.add(MaxPooling2D((2,2)))"
   ]
  },
  {
   "cell_type": "code",
   "execution_count": 7,
   "id": "33c591e3",
   "metadata": {},
   "outputs": [],
   "source": [
    "cnn.add(Flatten())"
   ]
  },
  {
   "cell_type": "code",
   "execution_count": 8,
   "id": "c17d79e3",
   "metadata": {},
   "outputs": [],
   "source": [
    "cnn.add(Dense(units =128, kernel_initializer=\"random_uniform\", activation=\"relu\"))\n",
    "cnn.add(Dense(units =5, kernel_initializer=\"random_uniform\", activation=\"softmax\"))"
   ]
  },
  {
   "cell_type": "code",
   "execution_count": 9,
   "id": "6e59c8e4",
   "metadata": {},
   "outputs": [],
   "source": [
    "cnn.compile(optimizer=\"rmsprop\", loss=\"categorical_crossentropy\", metrics=[\"accuracy\"])"
   ]
  },
  {
   "cell_type": "code",
   "execution_count": 11,
   "id": "77655343",
   "metadata": {},
   "outputs": [
    {
     "name": "stdout",
     "output_type": "stream",
     "text": [
      "Epoch 1/40\n",
      "45/45 [==============================] - 6s 124ms/step - loss: 0.2715 - accuracy: 0.9058 - val_loss: 1.2954 - val_accuracy: 0.7088\n",
      "Epoch 2/40\n",
      "45/45 [==============================] - 6s 121ms/step - loss: 0.2575 - accuracy: 0.9119 - val_loss: 1.5360 - val_accuracy: 0.6506\n",
      "Epoch 3/40\n",
      "45/45 [==============================] - 6s 122ms/step - loss: 0.2478 - accuracy: 0.9242 - val_loss: 1.3935 - val_accuracy: 0.6943\n",
      "Epoch 4/40\n",
      "45/45 [==============================] - 6s 126ms/step - loss: 0.2037 - accuracy: 0.9365 - val_loss: 1.5296 - val_accuracy: 0.6697\n",
      "Epoch 5/40\n",
      "45/45 [==============================] - 6s 127ms/step - loss: 0.1994 - accuracy: 0.9365 - val_loss: 1.4096 - val_accuracy: 0.7156\n",
      "Epoch 6/40\n",
      "45/45 [==============================] - 6s 124ms/step - loss: 0.1907 - accuracy: 0.9461 - val_loss: 1.4687 - val_accuracy: 0.6932\n",
      "Epoch 7/40\n",
      "45/45 [==============================] - 6s 123ms/step - loss: 0.1883 - accuracy: 0.9413 - val_loss: 1.4871 - val_accuracy: 0.7156\n",
      "Epoch 8/40\n",
      "45/45 [==============================] - 6s 122ms/step - loss: 0.1800 - accuracy: 0.9495 - val_loss: 1.5542 - val_accuracy: 0.7066\n",
      "Epoch 9/40\n",
      "45/45 [==============================] - 6s 124ms/step - loss: 0.1384 - accuracy: 0.9597 - val_loss: 1.5072 - val_accuracy: 0.7279\n",
      "Epoch 10/40\n",
      "45/45 [==============================] - 6s 126ms/step - loss: 0.1264 - accuracy: 0.9556 - val_loss: 1.5452 - val_accuracy: 0.7167\n",
      "Epoch 11/40\n",
      "45/45 [==============================] - 6s 122ms/step - loss: 0.1728 - accuracy: 0.9488 - val_loss: 1.7368 - val_accuracy: 0.6887\n",
      "Epoch 12/40\n",
      "45/45 [==============================] - 6s 123ms/step - loss: 0.1007 - accuracy: 0.9720 - val_loss: 1.9370 - val_accuracy: 0.7021\n",
      "Epoch 13/40\n",
      "45/45 [==============================] - 6s 125ms/step - loss: 0.1303 - accuracy: 0.9584 - val_loss: 1.8017 - val_accuracy: 0.7055\n",
      "Epoch 14/40\n",
      "45/45 [==============================] - 6s 128ms/step - loss: 0.1162 - accuracy: 0.9645 - val_loss: 1.8945 - val_accuracy: 0.6786\n",
      "Epoch 15/40\n",
      "45/45 [==============================] - 6s 128ms/step - loss: 0.0755 - accuracy: 0.9802 - val_loss: 2.0039 - val_accuracy: 0.6865\n",
      "Epoch 16/40\n",
      "45/45 [==============================] - 6s 131ms/step - loss: 0.0851 - accuracy: 0.9782 - val_loss: 1.9010 - val_accuracy: 0.6887\n",
      "Epoch 17/40\n",
      "45/45 [==============================] - 6s 130ms/step - loss: 0.1192 - accuracy: 0.9611 - val_loss: 1.7455 - val_accuracy: 0.7312\n",
      "Epoch 18/40\n",
      "45/45 [==============================] - 6s 132ms/step - loss: 0.1148 - accuracy: 0.9693 - val_loss: 1.9599 - val_accuracy: 0.7100\n",
      "Epoch 19/40\n",
      "45/45 [==============================] - 6s 135ms/step - loss: 0.0826 - accuracy: 0.9768 - val_loss: 2.0350 - val_accuracy: 0.7156\n",
      "Epoch 20/40\n",
      "45/45 [==============================] - 6s 132ms/step - loss: 0.0718 - accuracy: 0.9754 - val_loss: 2.0428 - val_accuracy: 0.7077\n",
      "Epoch 21/40\n",
      "45/45 [==============================] - 6s 130ms/step - loss: 0.0874 - accuracy: 0.9693 - val_loss: 2.1680 - val_accuracy: 0.6988\n",
      "Epoch 22/40\n",
      "45/45 [==============================] - 6s 126ms/step - loss: 0.0894 - accuracy: 0.9754 - val_loss: 1.9865 - val_accuracy: 0.7234\n",
      "Epoch 23/40\n",
      "45/45 [==============================] - 8s 166ms/step - loss: 0.0666 - accuracy: 0.9734 - val_loss: 2.0529 - val_accuracy: 0.7212\n",
      "Epoch 24/40\n",
      "45/45 [==============================] - 6s 128ms/step - loss: 0.0663 - accuracy: 0.9809 - val_loss: 1.9780 - val_accuracy: 0.7212\n",
      "Epoch 25/40\n",
      "45/45 [==============================] - 6s 135ms/step - loss: 0.0625 - accuracy: 0.9782 - val_loss: 2.0987 - val_accuracy: 0.7167\n",
      "Epoch 26/40\n",
      "45/45 [==============================] - 6s 134ms/step - loss: 0.0607 - accuracy: 0.9788 - val_loss: 2.1269 - val_accuracy: 0.7167\n",
      "Epoch 27/40\n",
      "45/45 [==============================] - 6s 126ms/step - loss: 0.0604 - accuracy: 0.9775 - val_loss: 2.3751 - val_accuracy: 0.7044\n",
      "Epoch 28/40\n",
      "45/45 [==============================] - 6s 134ms/step - loss: 0.0649 - accuracy: 0.9795 - val_loss: 2.5678 - val_accuracy: 0.6932\n",
      "Epoch 29/40\n",
      "45/45 [==============================] - 6s 137ms/step - loss: 0.0563 - accuracy: 0.9823 - val_loss: 2.1913 - val_accuracy: 0.7044\n",
      "Epoch 30/40\n",
      "45/45 [==============================] - 6s 130ms/step - loss: 0.0630 - accuracy: 0.9788 - val_loss: 2.2546 - val_accuracy: 0.7290\n",
      "Epoch 31/40\n",
      "45/45 [==============================] - 6s 136ms/step - loss: 0.0511 - accuracy: 0.9816 - val_loss: 2.4457 - val_accuracy: 0.6932\n",
      "Epoch 32/40\n",
      "45/45 [==============================] - 6s 134ms/step - loss: 0.0845 - accuracy: 0.9775 - val_loss: 2.2307 - val_accuracy: 0.7212\n",
      "Epoch 33/40\n",
      "45/45 [==============================] - 6s 126ms/step - loss: 0.0594 - accuracy: 0.9863 - val_loss: 2.1034 - val_accuracy: 0.7424\n",
      "Epoch 34/40\n",
      "45/45 [==============================] - 6s 133ms/step - loss: 0.0467 - accuracy: 0.9843 - val_loss: 2.5058 - val_accuracy: 0.7111\n",
      "Epoch 35/40\n",
      "45/45 [==============================] - 6s 135ms/step - loss: 0.0501 - accuracy: 0.9863 - val_loss: 2.6995 - val_accuracy: 0.7178\n",
      "Epoch 36/40\n",
      "45/45 [==============================] - 6s 130ms/step - loss: 0.0718 - accuracy: 0.9768 - val_loss: 2.3632 - val_accuracy: 0.7200\n",
      "Epoch 37/40\n",
      "45/45 [==============================] - 6s 131ms/step - loss: 0.0426 - accuracy: 0.9925 - val_loss: 2.4150 - val_accuracy: 0.7144\n",
      "Epoch 38/40\n",
      "45/45 [==============================] - 6s 127ms/step - loss: 0.0447 - accuracy: 0.9836 - val_loss: 2.7644 - val_accuracy: 0.6797\n",
      "Epoch 39/40\n",
      "45/45 [==============================] - 6s 130ms/step - loss: 0.0337 - accuracy: 0.9898 - val_loss: 2.6296 - val_accuracy: 0.6965\n",
      "Epoch 40/40\n",
      "45/45 [==============================] - 6s 132ms/step - loss: 0.0736 - accuracy: 0.9795 - val_loss: 2.5047 - val_accuracy: 0.7256\n"
     ]
    },
    {
     "data": {
      "text/plain": [
       "<tensorflow.python.keras.callbacks.History at 0x27971b3a040>"
      ]
     },
     "execution_count": 11,
     "metadata": {},
     "output_type": "execute_result"
    }
   ],
   "source": [
    "cnn.fit_generator(x_train, steps_per_epoch=1465/32, epochs=40,validation_data=x_test,validation_steps=893/32)"
   ]
  },
  {
   "cell_type": "code",
   "execution_count": 12,
   "id": "27439757",
   "metadata": {},
   "outputs": [],
   "source": [
    "cnn.save(\"fastfood.h5\")"
   ]
  }
 ],
 "metadata": {
  "kernelspec": {
   "display_name": "Python 3 (ipykernel)",
   "language": "python",
   "name": "python3"
  },
  "language_info": {
   "codemirror_mode": {
    "name": "ipython",
    "version": 3
   },
   "file_extension": ".py",
   "mimetype": "text/x-python",
   "name": "python",
   "nbconvert_exporter": "python",
   "pygments_lexer": "ipython3",
   "version": "3.9.1"
  }
 },
 "nbformat": 4,
 "nbformat_minor": 5
}
